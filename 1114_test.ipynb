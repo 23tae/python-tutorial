{
 "cells": [
  {
   "cell_type": "code",
   "execution_count": 1,
   "metadata": {},
   "outputs": [],
   "source": [
    "import pandas as pd\n",
    "import os"
   ]
  },
  {
   "cell_type": "code",
   "execution_count": 4,
   "metadata": {},
   "outputs": [],
   "source": [
    "path = \"./data/중간시험/인천시_용도별건물정보/\"\n",
    "file_list = os.listdir(path)"
   ]
  },
  {
   "cell_type": "code",
   "execution_count": 5,
   "metadata": {},
   "outputs": [
    {
     "data": {
      "text/plain": [
       "['인천광역시+미추홀구_용도별건물정보.csv',\n",
       " '인천광역시+옹진군_용도별건물정보.csv',\n",
       " '인천광역시+강화군_용도별건물정보.csv',\n",
       " '인천광역시+남동구_용도별건물정보.csv',\n",
       " '인천광역시+서구_용도별건물정보.csv',\n",
       " '인천광역시+부평구_용도별건물정보.csv',\n",
       " '인천광역시+연수구_용도별건물정보.csv',\n",
       " '인천광역시+계양구_용도별건물정보.csv',\n",
       " '인천광역시+중구_용도별건물정보.csv',\n",
       " '인천광역시+동구_용도별건물정보.csv']"
      ]
     },
     "execution_count": 5,
     "metadata": {},
     "output_type": "execute_result"
    }
   ],
   "source": [
    "file_list"
   ]
  },
  {
   "cell_type": "code",
   "execution_count": 9,
   "metadata": {},
   "outputs": [
    {
     "data": {
      "text/plain": [
       "['인천광역시+미추홀구_용도별건물정보.csv',\n",
       " '인천광역시+옹진군_용도별건물정보.csv',\n",
       " '인천광역시+강화군_용도별건물정보.csv',\n",
       " '인천광역시+남동구_용도별건물정보.csv',\n",
       " '인천광역시+서구_용도별건물정보.csv',\n",
       " '인천광역시+부평구_용도별건물정보.csv',\n",
       " '인천광역시+연수구_용도별건물정보.csv',\n",
       " '인천광역시+계양구_용도별건물정보.csv',\n",
       " '인천광역시+중구_용도별건물정보.csv',\n",
       " '인천광역시+동구_용도별건물정보.csv']"
      ]
     },
     "execution_count": 9,
     "metadata": {},
     "output_type": "execute_result"
    }
   ],
   "source": [
    "keywords = [filename.replace(\"_용도별건물정보.csv\", \"\") for filename in file_list]\n",
    "keywords"
   ]
  },
  {
   "cell_type": "code",
   "execution_count": 10,
   "metadata": {},
   "outputs": [],
   "source": [
    "import matplotlib\n",
    "import matplotlib.pyplot as plt"
   ]
  },
  {
   "cell_type": "code",
   "execution_count": 11,
   "metadata": {},
   "outputs": [],
   "source": [
    "df = pd.read_csv(r'./data/중간시험/서울시 기간별 일평균 대기환경 정보.csv', encoding='cp949')"
   ]
  },
  {
   "cell_type": "code",
   "execution_count": 12,
   "metadata": {},
   "outputs": [
    {
     "data": {
      "text/html": [
       "<div>\n",
       "<style scoped>\n",
       "    .dataframe tbody tr th:only-of-type {\n",
       "        vertical-align: middle;\n",
       "    }\n",
       "\n",
       "    .dataframe tbody tr th {\n",
       "        vertical-align: top;\n",
       "    }\n",
       "\n",
       "    .dataframe thead th {\n",
       "        text-align: right;\n",
       "    }\n",
       "</style>\n",
       "<table border=\"1\" class=\"dataframe\">\n",
       "  <thead>\n",
       "    <tr style=\"text-align: right;\">\n",
       "      <th></th>\n",
       "      <th>측정일자</th>\n",
       "      <th>권역명</th>\n",
       "      <th>측정소명</th>\n",
       "      <th>미세먼지(㎍/㎥)</th>\n",
       "      <th>초미세먼지(㎍/㎥)</th>\n",
       "      <th>오존(ppm)</th>\n",
       "      <th>이산화질소농도(ppm)</th>\n",
       "      <th>일산화탄소농도(ppm)</th>\n",
       "      <th>아황산가스농도(ppm)</th>\n",
       "    </tr>\n",
       "  </thead>\n",
       "  <tbody>\n",
       "    <tr>\n",
       "      <th>0</th>\n",
       "      <td>20231113</td>\n",
       "      <td>도심권</td>\n",
       "      <td>중구</td>\n",
       "      <td>21</td>\n",
       "      <td>16</td>\n",
       "      <td>0.0210</td>\n",
       "      <td>0.0135</td>\n",
       "      <td>0.39</td>\n",
       "      <td>0.0028</td>\n",
       "    </tr>\n",
       "    <tr>\n",
       "      <th>1</th>\n",
       "      <td>20231113</td>\n",
       "      <td>도심권</td>\n",
       "      <td>종로구</td>\n",
       "      <td>23</td>\n",
       "      <td>15</td>\n",
       "      <td>0.0263</td>\n",
       "      <td>0.0115</td>\n",
       "      <td>0.41</td>\n",
       "      <td>0.0028</td>\n",
       "    </tr>\n",
       "    <tr>\n",
       "      <th>2</th>\n",
       "      <td>20231113</td>\n",
       "      <td>도심권</td>\n",
       "      <td>용산구</td>\n",
       "      <td>26</td>\n",
       "      <td>14</td>\n",
       "      <td>0.0233</td>\n",
       "      <td>0.0135</td>\n",
       "      <td>0.45</td>\n",
       "      <td>0.0024</td>\n",
       "    </tr>\n",
       "    <tr>\n",
       "      <th>3</th>\n",
       "      <td>20231113</td>\n",
       "      <td>서북권</td>\n",
       "      <td>은평구</td>\n",
       "      <td>26</td>\n",
       "      <td>14</td>\n",
       "      <td>0.0211</td>\n",
       "      <td>0.0137</td>\n",
       "      <td>0.32</td>\n",
       "      <td>0.0033</td>\n",
       "    </tr>\n",
       "    <tr>\n",
       "      <th>4</th>\n",
       "      <td>20231113</td>\n",
       "      <td>서북권</td>\n",
       "      <td>서대문구</td>\n",
       "      <td>22</td>\n",
       "      <td>15</td>\n",
       "      <td>0.0246</td>\n",
       "      <td>0.0134</td>\n",
       "      <td>0.31</td>\n",
       "      <td>0.0022</td>\n",
       "    </tr>\n",
       "    <tr>\n",
       "      <th>...</th>\n",
       "      <td>...</td>\n",
       "      <td>...</td>\n",
       "      <td>...</td>\n",
       "      <td>...</td>\n",
       "      <td>...</td>\n",
       "      <td>...</td>\n",
       "      <td>...</td>\n",
       "      <td>...</td>\n",
       "      <td>...</td>\n",
       "    </tr>\n",
       "    <tr>\n",
       "      <th>9145</th>\n",
       "      <td>20221113</td>\n",
       "      <td>서남권</td>\n",
       "      <td>양천구</td>\n",
       "      <td>19</td>\n",
       "      <td>12</td>\n",
       "      <td>0.0160</td>\n",
       "      <td>0.0100</td>\n",
       "      <td>0.50</td>\n",
       "      <td>0.0040</td>\n",
       "    </tr>\n",
       "    <tr>\n",
       "      <th>9146</th>\n",
       "      <td>20221113</td>\n",
       "      <td>동남권</td>\n",
       "      <td>강남구</td>\n",
       "      <td>21</td>\n",
       "      <td>12</td>\n",
       "      <td>0.0180</td>\n",
       "      <td>0.0150</td>\n",
       "      <td>0.40</td>\n",
       "      <td>0.0030</td>\n",
       "    </tr>\n",
       "    <tr>\n",
       "      <th>9147</th>\n",
       "      <td>20221113</td>\n",
       "      <td>동남권</td>\n",
       "      <td>서초구</td>\n",
       "      <td>16</td>\n",
       "      <td>10</td>\n",
       "      <td>0.0150</td>\n",
       "      <td>0.0120</td>\n",
       "      <td>0.40</td>\n",
       "      <td>0.0020</td>\n",
       "    </tr>\n",
       "    <tr>\n",
       "      <th>9148</th>\n",
       "      <td>20221113</td>\n",
       "      <td>동남권</td>\n",
       "      <td>송파구</td>\n",
       "      <td>20</td>\n",
       "      <td>13</td>\n",
       "      <td>0.0140</td>\n",
       "      <td>0.0150</td>\n",
       "      <td>0.50</td>\n",
       "      <td>0.0020</td>\n",
       "    </tr>\n",
       "    <tr>\n",
       "      <th>9149</th>\n",
       "      <td>20221113</td>\n",
       "      <td>동남권</td>\n",
       "      <td>강동구</td>\n",
       "      <td>20</td>\n",
       "      <td>12</td>\n",
       "      <td>0.0130</td>\n",
       "      <td>0.0110</td>\n",
       "      <td>0.40</td>\n",
       "      <td>0.0030</td>\n",
       "    </tr>\n",
       "  </tbody>\n",
       "</table>\n",
       "<p>9150 rows × 9 columns</p>\n",
       "</div>"
      ],
      "text/plain": [
       "          측정일자  권역명  측정소명  미세먼지(㎍/㎥)  초미세먼지(㎍/㎥)  오존(ppm)  이산화질소농도(ppm)  \\\n",
       "0     20231113  도심권    중구         21          16   0.0210        0.0135   \n",
       "1     20231113  도심권   종로구         23          15   0.0263        0.0115   \n",
       "2     20231113  도심권   용산구         26          14   0.0233        0.0135   \n",
       "3     20231113  서북권   은평구         26          14   0.0211        0.0137   \n",
       "4     20231113  서북권  서대문구         22          15   0.0246        0.0134   \n",
       "...        ...  ...   ...        ...         ...      ...           ...   \n",
       "9145  20221113  서남권   양천구         19          12   0.0160        0.0100   \n",
       "9146  20221113  동남권   강남구         21          12   0.0180        0.0150   \n",
       "9147  20221113  동남권   서초구         16          10   0.0150        0.0120   \n",
       "9148  20221113  동남권   송파구         20          13   0.0140        0.0150   \n",
       "9149  20221113  동남권   강동구         20          12   0.0130        0.0110   \n",
       "\n",
       "      일산화탄소농도(ppm)  아황산가스농도(ppm)  \n",
       "0             0.39        0.0028  \n",
       "1             0.41        0.0028  \n",
       "2             0.45        0.0024  \n",
       "3             0.32        0.0033  \n",
       "4             0.31        0.0022  \n",
       "...            ...           ...  \n",
       "9145          0.50        0.0040  \n",
       "9146          0.40        0.0030  \n",
       "9147          0.40        0.0020  \n",
       "9148          0.50        0.0020  \n",
       "9149          0.40        0.0030  \n",
       "\n",
       "[9150 rows x 9 columns]"
      ]
     },
     "execution_count": 12,
     "metadata": {},
     "output_type": "execute_result"
    }
   ],
   "source": [
    "df"
   ]
  },
  {
   "cell_type": "code",
   "execution_count": null,
   "metadata": {},
   "outputs": [],
   "source": []
  }
 ],
 "metadata": {
  "kernelspec": {
   "display_name": "base",
   "language": "python",
   "name": "python3"
  },
  "language_info": {
   "codemirror_mode": {
    "name": "ipython",
    "version": 3
   },
   "file_extension": ".py",
   "mimetype": "text/x-python",
   "name": "python",
   "nbconvert_exporter": "python",
   "pygments_lexer": "ipython3",
   "version": "3.11.5"
  }
 },
 "nbformat": 4,
 "nbformat_minor": 2
}

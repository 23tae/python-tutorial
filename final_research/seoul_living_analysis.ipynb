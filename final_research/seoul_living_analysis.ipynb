{
 "cells": [
  {
   "cell_type": "code",
   "execution_count": 1,
   "metadata": {},
   "outputs": [],
   "source": [
    "import pandas as pd"
   ]
  },
  {
   "cell_type": "code",
   "execution_count": 2,
   "metadata": {},
   "outputs": [],
   "source": [
    "df = pd.read_csv('../data/생활이동_자치구_202310/생활이동_자치구_2023.10_00시.csv', encoding='cp949')"
   ]
  },
  {
   "cell_type": "code",
   "execution_count": 3,
   "metadata": {},
   "outputs": [
    {
     "data": {
      "text/html": [
       "<div>\n",
       "<style scoped>\n",
       "    .dataframe tbody tr th:only-of-type {\n",
       "        vertical-align: middle;\n",
       "    }\n",
       "\n",
       "    .dataframe tbody tr th {\n",
       "        vertical-align: top;\n",
       "    }\n",
       "\n",
       "    .dataframe thead th {\n",
       "        text-align: right;\n",
       "    }\n",
       "</style>\n",
       "<table border=\"1\" class=\"dataframe\">\n",
       "  <thead>\n",
       "    <tr style=\"text-align: right;\">\n",
       "      <th></th>\n",
       "      <th>대상연월</th>\n",
       "      <th>요일</th>\n",
       "      <th>도착시간</th>\n",
       "      <th>출발 시군구 코드</th>\n",
       "      <th>도착 시군구 코드</th>\n",
       "      <th>성별</th>\n",
       "      <th>나이</th>\n",
       "      <th>이동유형</th>\n",
       "      <th>평균 이동 시간(분)</th>\n",
       "      <th>이동인구(합)</th>\n",
       "    </tr>\n",
       "  </thead>\n",
       "  <tbody>\n",
       "    <tr>\n",
       "      <th>0</th>\n",
       "      <td>202310</td>\n",
       "      <td>일</td>\n",
       "      <td>0</td>\n",
       "      <td>11010</td>\n",
       "      <td>11010</td>\n",
       "      <td>F</td>\n",
       "      <td>0</td>\n",
       "      <td>EH</td>\n",
       "      <td>282</td>\n",
       "      <td>55.22</td>\n",
       "    </tr>\n",
       "    <tr>\n",
       "      <th>1</th>\n",
       "      <td>202310</td>\n",
       "      <td>일</td>\n",
       "      <td>0</td>\n",
       "      <td>11010</td>\n",
       "      <td>11010</td>\n",
       "      <td>F</td>\n",
       "      <td>10</td>\n",
       "      <td>EE</td>\n",
       "      <td>159</td>\n",
       "      <td>11.93</td>\n",
       "    </tr>\n",
       "    <tr>\n",
       "      <th>2</th>\n",
       "      <td>202310</td>\n",
       "      <td>일</td>\n",
       "      <td>0</td>\n",
       "      <td>11010</td>\n",
       "      <td>11010</td>\n",
       "      <td>F</td>\n",
       "      <td>10</td>\n",
       "      <td>EH</td>\n",
       "      <td>85</td>\n",
       "      <td>11.92</td>\n",
       "    </tr>\n",
       "    <tr>\n",
       "      <th>3</th>\n",
       "      <td>202310</td>\n",
       "      <td>일</td>\n",
       "      <td>0</td>\n",
       "      <td>11010</td>\n",
       "      <td>11010</td>\n",
       "      <td>F</td>\n",
       "      <td>10</td>\n",
       "      <td>HH</td>\n",
       "      <td>135</td>\n",
       "      <td>5.87</td>\n",
       "    </tr>\n",
       "    <tr>\n",
       "      <th>4</th>\n",
       "      <td>202310</td>\n",
       "      <td>일</td>\n",
       "      <td>0</td>\n",
       "      <td>11010</td>\n",
       "      <td>11010</td>\n",
       "      <td>F</td>\n",
       "      <td>10</td>\n",
       "      <td>HW</td>\n",
       "      <td>7</td>\n",
       "      <td>5.98</td>\n",
       "    </tr>\n",
       "  </tbody>\n",
       "</table>\n",
       "</div>"
      ],
      "text/plain": [
       "     대상연월 요일  도착시간  출발 시군구 코드  도착 시군구 코드 성별  나이 이동유형  평균 이동 시간(분) 이동인구(합)\n",
       "0  202310  일     0      11010      11010  F   0   EH          282   55.22\n",
       "1  202310  일     0      11010      11010  F  10   EE          159   11.93\n",
       "2  202310  일     0      11010      11010  F  10   EH           85   11.92\n",
       "3  202310  일     0      11010      11010  F  10   HH          135    5.87\n",
       "4  202310  일     0      11010      11010  F  10   HW            7    5.98"
      ]
     },
     "execution_count": 3,
     "metadata": {},
     "output_type": "execute_result"
    }
   ],
   "source": [
    "df.head()"
   ]
  },
  {
   "cell_type": "code",
   "execution_count": null,
   "metadata": {},
   "outputs": [],
   "source": []
  }
 ],
 "metadata": {
  "kernelspec": {
   "display_name": "base",
   "language": "python",
   "name": "python3"
  },
  "language_info": {
   "codemirror_mode": {
    "name": "ipython",
    "version": 3
   },
   "file_extension": ".py",
   "mimetype": "text/x-python",
   "name": "python",
   "nbconvert_exporter": "python",
   "pygments_lexer": "ipython3",
   "version": "3.11.5"
  }
 },
 "nbformat": 4,
 "nbformat_minor": 2
}

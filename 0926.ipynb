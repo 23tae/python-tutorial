{
 "cells": [
  {
   "cell_type": "markdown",
   "id": "67a88c04",
   "metadata": {},
   "source": [
    "## 환경생태정보학 4주차\n",
    "#### 문의 : 조경학과 백시우 seew00@uos.ac.kr"
   ]
  },
  {
   "cell_type": "markdown",
   "id": "5270abf9",
   "metadata": {},
   "source": [
    "### 조건문(Condition Statements)\n",
    "#### 조건문(if)은 조건의 결과에 따라서 실행되는 문장이 결정되는 것을 말함.  if문을 사용하면 조건이 참(True)이냐 거짓(False)이냐에 따라 실행되는 문장이 달라짐."
   ]
  },
  {
   "cell_type": "code",
   "execution_count": 8,
   "id": "5762b773",
   "metadata": {},
   "outputs": [
    {
     "name": "stdout",
     "output_type": "stream",
     "text": [
      "학사경고입니다.\n"
     ]
    }
   ],
   "source": [
    "#if 문 기본구조 파악\n",
    "Grade = 1.0\n",
    "\n",
    "if Grade < 2.0:\n",
    "    print(\"학사경고입니다.\")"
   ]
  },
  {
   "cell_type": "code",
   "execution_count": 9,
   "id": "ff81e003",
   "metadata": {},
   "outputs": [
    {
     "name": "stdout",
     "output_type": "stream",
     "text": [
      "학사경고가 아닙니다\n"
     ]
    }
   ],
   "source": [
    "#if + else 문 기본구조 파악\n",
    "Grade = 3.0\n",
    "\n",
    "if Grade < 2.0:\n",
    "    print(\"학사경고입니다.\")\n",
    "else :\n",
    "    print(\"학사경고가 아닙니다\")"
   ]
  },
  {
   "cell_type": "code",
   "execution_count": 14,
   "id": "a485aba1",
   "metadata": {},
   "outputs": [
    {
     "name": "stdout",
     "output_type": "stream",
     "text": [
      "학사경고가 아닙니다\n"
     ]
    }
   ],
   "source": [
    "#if + elif + else 문 기본구조 파악\n",
    "Grade = 3.9\n",
    "\n",
    "if Grade < 2.0:\n",
    "    print(\"학사경고입니다.\")\n",
    "elif 4.0 > Grade > 2.0 :\n",
    "    print(\"학사경고가 아닙니다\")\n",
    "else :\n",
    "    print(\"성적우수 입니다\")"
   ]
  },
  {
   "cell_type": "code",
   "execution_count": 16,
   "id": "a5be7898",
   "metadata": {},
   "outputs": [
    {
     "name": "stdout",
     "output_type": "stream",
     "text": [
      "민지는 뉴진스 멤버입니다\n"
     ]
    }
   ],
   "source": [
    "#in 연산자 사용하여 시퀀스(리스트, 튜플, 문자열)안에 특정 값 확인하기\n",
    "Newjeans = [\"민지\", \"하니\", \"다니엘\", \"해린\", \"혜인\"]\n",
    "if \"민지\" in Newjeans:\n",
    "    print(\"민지는 뉴진스 멤버입니다\")"
   ]
  },
  {
   "cell_type": "code",
   "execution_count": 18,
   "id": "3bb12abf",
   "metadata": {},
   "outputs": [
    {
     "name": "stdout",
     "output_type": "stream",
     "text": [
      "사쿠라는 뉴진스 멤버가 아닙니다\n"
     ]
    }
   ],
   "source": [
    "if \"사쿠라\" in Newjeans:\n",
    "    print(\"사쿠라는 뉴진스 멤버입니다\")\n",
    "else:\n",
    "    print(\"사쿠라는 뉴진스 멤버가 아닙니다\")"
   ]
  },
  {
   "cell_type": "code",
   "execution_count": 19,
   "id": "22bbcb91",
   "metadata": {},
   "outputs": [
    {
     "name": "stdout",
     "output_type": "stream",
     "text": [
      "사과는 5개 이상입니다.\n"
     ]
    }
   ],
   "source": [
    "#조건부 표현식(Conditional Expression)\n",
    "apple = 5\n",
    "message = \"사과는 5개 이상입니다.\" if apple >= 5 else \"사과는 5개 미만입니다\"\n",
    "print(message)"
   ]
  },
  {
   "cell_type": "code",
   "execution_count": 21,
   "id": "6cd0701d",
   "metadata": {},
   "outputs": [
    {
     "name": "stdout",
     "output_type": "stream",
     "text": [
      "방시혁은 TXT 멤버가 아닙니다\n"
     ]
    }
   ],
   "source": [
    "#not 연사자\n",
    "TXT = [\"수빈\", \"연준\", \"휴닝카이\", \"태현\", \"범규\"]\n",
    "if not \"방시혁\" in TXT:\n",
    "    print(\"방시혁은 TXT 멤버가 아닙니다\")\n",
    "else:\n",
    "    print(\"방시혁은 TXT 멤버입니다\")"
   ]
  },
  {
   "cell_type": "markdown",
   "id": "3127952c",
   "metadata": {},
   "source": [
    "#### 조건문을 이용해서 Test 폴더 안에 규칙적으로 이름지어진 csv 파일들의 이름에서 키워드를 도출시켜보자 (온라인강의실에서 폴더 다운)"
   ]
  },
  {
   "cell_type": "code",
   "execution_count": null,
   "id": "30d4b32f",
   "metadata": {},
   "outputs": [],
   "source": [
    "import os\n",
    "path = \"./Test/\"\n",
    "#파일 리스트 설정\n",
    "file_list = os.listdir(path)"
   ]
  },
  {
   "cell_type": "code",
   "execution_count": 13,
   "id": "78c0aee5",
   "metadata": {
    "scrolled": true
   },
   "outputs": [
    {
     "name": "stdout",
     "output_type": "stream",
     "text": [
      "귤\n",
      "납작복숭아\n",
      "딸기\n",
      "망고\n",
      "멜론\n"
     ]
    }
   ],
   "source": [
    "# 파일명에서 '_searchresults.csv'을 제거한 후 유효한 키워드만 추출\n",
    "keywords = [file_name.replace(\"_searchresults.csv\", \"\") for file_name in file_list if file_name.endswith(\"_searchresults.csv\")]\n",
    "\n",
    "# 결과 출력\n",
    "if keywords:\n",
    "    print(\"\\n\".join(keywords))\n",
    "else:\n",
    "    print(\"키워드가 없습니다.\")"
   ]
  },
  {
   "cell_type": "markdown",
   "id": "234dc86e",
   "metadata": {},
   "source": [
    "##### endswith() 함수:\n",
    "\n",
    "endswith() 함수는 문자열이 주어진 접미사(suffix)로 끝나는지 여부를 확인하는데 사용됩니다.\n",
    "이 함수는 문자열의 끝 부분이 지정한 접미사와 일치하면 True를 반환하고, 그렇지 않으면 False를 반환합니다.\n",
    "주로 파일 확장자나 특정 문자열 패턴의 확인에 사용됩니다.\n",
    "\n",
    "##### join() 함수:\n",
    "\n",
    "join() 함수는 문자열을 결합(concatenate)할 때 사용됩니다. 이 함수는 문자열 리스트나 튜플을 하나의 문자열로 결합합니다.\n",
    "join() 함수는 문자열을 결합할 때 사이사이에 지정한 구분자(separator)를 삽입할 수 있습니다."
   ]
  },
  {
   "cell_type": "markdown",
   "id": "cc813fd7",
   "metadata": {},
   "source": [
    "#### 조건문을 이용해서 Test 폴더 안에 \"./New_test/\"폴더가 있으면 폴더를 열고, 없으면 폴더를 만드는 코드를 짜보자"
   ]
  },
  {
   "cell_type": "code",
   "execution_count": 23,
   "id": "e30490dd",
   "metadata": {},
   "outputs": [
    {
     "name": "stdout",
     "output_type": "stream",
     "text": [
      "경로에 폴더가 있습니다\n"
     ]
    }
   ],
   "source": [
    "# 경로\n",
    "folder = \"./Test/New_test/\"\n",
    "\n",
    "# 검색 결과를 저장할 디렉토리가 존재하지 않으면 생성. 아니면 print 출력\n",
    "if not os.path.exists(folder):\n",
    "    os.makedirs(folder)\n",
    "else:\n",
    "    print(\"경로에 폴더가 있습니다\")"
   ]
  },
  {
   "cell_type": "markdown",
   "id": "203a0d7a",
   "metadata": {},
   "source": [
    "### 반복문(Loop)\n",
    "#### 반복문은 문장을 반복해서 수행해야할 경우 사용하는 문장. for 문과 while문이 있음. for문은 시퀀스가 있는 데이터 구조를 순회하며 문장을 실행하며, while문은 주어진 조건이 참(True)인 경우에만 문장을 실행함."
   ]
  },
  {
   "cell_type": "code",
   "execution_count": 24,
   "id": "36a4ca01",
   "metadata": {},
   "outputs": [
    {
     "name": "stdout",
     "output_type": "stream",
     "text": [
      "0\n",
      "1\n",
      "2\n",
      "3\n",
      "4\n"
     ]
    }
   ],
   "source": [
    "#for문 구조 파악\n",
    "for i in range(5):\n",
    "    print(i)"
   ]
  },
  {
   "cell_type": "code",
   "execution_count": 26,
   "id": "91235fe1",
   "metadata": {},
   "outputs": [
    {
     "name": "stdout",
     "output_type": "stream",
     "text": [
      "1\n",
      "2\n",
      "3\n",
      "4\n",
      "5\n",
      "현재 count 값은6입니다.\n"
     ]
    }
   ],
   "source": [
    "#while문 구조 파악\n",
    "count = 1\n",
    "while count <= 5:\n",
    "    print(count)\n",
    "    count += 1\n",
    "print(f\"현재 count 값은{count}입니다.\")"
   ]
  },
  {
   "cell_type": "markdown",
   "id": "2a827e7b",
   "metadata": {},
   "source": [
    "f 문자열 포맷팅은 파이썬 3.6 이상에서 도입된 기능으로, 문자열 내에서 변수나 표현식의 값을 쉽게 문자열에 포함시킬 수 있도록 해줍니다. {} 중괄호를 사용하여 문자열 내에 변수나 표현식을 삽입할 때 사용됩니다.\n",
    "\n",
    "여기서 \"현재 count 값은{count}입니다.\"의 {count} 부분은 변수 count의 값을 문자열 내에 삽입하기 위해 사용된 것입니다. 이렇게 하면 출력되는 문자열에 변수의 값을 동적으로 포함시킬 수 있습니다."
   ]
  },
  {
   "cell_type": "code",
   "execution_count": 27,
   "id": "52b8df15",
   "metadata": {},
   "outputs": [
    {
     "name": "stdout",
     "output_type": "stream",
     "text": [
      "1 번 출력되었습니다.\n",
      "2 번 출력되었습니다.\n",
      "3 번 출력되었습니다.\n",
      "4 번 출력되었습니다.\n",
      "5 번 출력되었습니다.\n",
      "6 번 출력되었습니다.\n",
      "7 번 출력되었습니다.\n",
      "8 번 출력되었습니다.\n",
      "9 번 출력되었습니다.\n",
      "10 번 출력되었습니다.\n"
     ]
    }
   ],
   "source": [
    "i = 1\n",
    "while i <= 10:\n",
    "    print(i, \"번 출력되었습니다.\")\n",
    "    i += 1"
   ]
  },
  {
   "cell_type": "code",
   "execution_count": 28,
   "id": "df96f892",
   "metadata": {},
   "outputs": [
    {
     "name": "stdout",
     "output_type": "stream",
     "text": [
      "1 번 출력되었습니다.\n",
      "2 번 출력되었습니다.\n",
      "3 번 출력되었습니다.\n",
      "4 번 출력되었습니다.\n",
      "5 번 출력되었습니다.\n",
      "6 번 출력되었습니다.\n"
     ]
    }
   ],
   "source": [
    "#Break문 이해하기\n",
    "i = 1\n",
    "while i <= 10:\n",
    "    if i == 7:\n",
    "        break\n",
    "    print(i,\"번 출력되었습니다.\")\n",
    "    i += 1"
   ]
  },
  {
   "cell_type": "code",
   "execution_count": 29,
   "id": "9f149ac8",
   "metadata": {},
   "outputs": [
    {
     "name": "stdout",
     "output_type": "stream",
     "text": [
      "2 번 출력되었습니다.\n",
      "4 번 출력되었습니다.\n",
      "6 번 출력되었습니다.\n",
      "8 번 출력되었습니다.\n",
      "10 번 출력되었습니다.\n"
     ]
    }
   ],
   "source": [
    "#contnue문 이해하기\n",
    "i = 0 \n",
    "while i <= 10:\n",
    "    i += 1\n",
    "    if i % 2 == 1: continue\n",
    "    print(i, \"번 출력되었습니다.\")"
   ]
  },
  {
   "cell_type": "code",
   "execution_count": 30,
   "id": "f386a02b",
   "metadata": {},
   "outputs": [],
   "source": [
    "#### 반복문을 이용해서 Test 폴더에 있는 모든 csv 파일을 하나의 데이터프레임으로 묶어보자"
   ]
  },
  {
   "cell_type": "code",
   "execution_count": 59,
   "id": "f4860071",
   "metadata": {},
   "outputs": [
    {
     "name": "stdout",
     "output_type": "stream",
     "text": [
      "['귤_searchresults.csv', '납작복숭아_searchresults.csv', '딸기_searchresults.csv', '망고_searchresults.csv', '멜론_searchresults.csv']\n"
     ]
    }
   ],
   "source": [
    "import os\n",
    "import pandas as pd\n",
    "\n",
    "#csv 파일들이 있는 경로\n",
    "directory_path = \"./Test/\"\n",
    "\n",
    "#csv 파일 목록\n",
    "csv_files = [file for file in os.listdir(path) if file.endswith(\"_searchresults.csv\")]\n",
    "\n",
    "print(csv_files)"
   ]
  },
  {
   "cell_type": "code",
   "execution_count": 75,
   "id": "c8178603",
   "metadata": {},
   "outputs": [],
   "source": [
    "# 각각의 CSV 파일을 데이터프레임으로 불러오기\n",
    "dfs = {}\n",
    "\n",
    "for file_name in csv_files:\n",
    "    file_path = os.path.join(directory_path, file_name)\n",
    "    # 파일 이름에서 과일 이름 추출\n",
    "    fruit_name = file_name.split('_')[0]\n",
    "    # 데이터프레임 생성 및 변수에 할당\n",
    "    dfs[fruit_name] = pd.read_csv(file_path)"
   ]
  },
  {
   "cell_type": "code",
   "execution_count": 76,
   "id": "01874d49",
   "metadata": {},
   "outputs": [
    {
     "name": "stdout",
     "output_type": "stream",
     "text": [
      "귤 데이터프레임:\n",
      "               https://namu.wiki/w/%EA%B7%A4?rev=852\n",
      "0  https://www.lotteon.com/search/search/search.e...\n",
      "1  http://browse.gmarket.co.kr/list?category=3000...\n",
      "2  https://www.lotteon.com/search/search/search.e...\n",
      "3  http://browse.gmarket.co.kr/list?category=3000...\n",
      "4  https://culture.seogwipo.go.kr/citrus/story/lo...\n",
      "5  http://tourdigital.co.kr/contents/item.php?it_...\n",
      "납작복숭아 데이터프레임:\n",
      "  https://m.shoppinghow.kakao.com/m/search/q/%EB%82%A9%EC%9E%91%20%EB%B3%B5%EC%88%AD%EC%95%84\n",
      "0  https://www.lotteon.com/search/search/search.e...                                         \n",
      "1  https://www.sanghafarm.co.kr/product/detail.js...                                         \n",
      "2  https://m.shoppinghow.kakao.com/m/search/q/%EB...                                         \n",
      "3  https://www.sanghafarm.co.kr/product/detail.js...                                         \n",
      "4  https://m.shoppinghow.kakao.com/m/search/q/%EB...                                         \n",
      "5  https://m.midamstore.co.kr/product/%EC%9C%A0%E...                                         \n",
      "딸기 데이터프레임:\n",
      "              https://namu.wiki/w/%EB%94%B8%EA%B8%B0\n",
      "0   https://ko.wikipedia.org/wiki/%EB%94%B8%EA%B8%B0\n",
      "1       https://encykorea.aks.ac.kr/Article/E0017178\n",
      "2  http://browse.gmarket.co.kr/list?category=3000...\n",
      "3   https://www.sanencheong.com/goods/view?no=105777\n",
      "4  https://www.lotteon.com/search/search/search.e...\n",
      "5      https://m.dongascience.com/news.php?idx=59928\n",
      "망고 데이터프레임:\n",
      "              https://namu.wiki/w/%EB%A7%9D%EA%B3%A0\n",
      "0                        https://www.mangoboard.net/\n",
      "1  https://shop.mango.com/kr/%E1%84%8B%E1%85%A7%E...\n",
      "2  https://ko.wikipedia.org/wiki/%EB%A7%9D%EA%B3%...\n",
      "3  https://www.healthinnews.co.kr/news/articleVie...\n",
      "4   https://ko.wikipedia.org/wiki/%EB%A7%9D%EA%B3%A0\n",
      "멜론 데이터프레임:\n",
      "                               https://m2.melon.com/\n",
      "0                              https://m2.melon.com/\n",
      "1  https://play.google.com/store/apps/details?id=...\n",
      "2  https://play.google.com/store/apps/details?id=...\n",
      "3             https://namu.wiki/w/%EB%A9%9C%EB%A1%A0\n",
      "4  https://www.youtube.com/channel/UCpBlDSUyOpP1W...\n"
     ]
    }
   ],
   "source": [
    "# 각각의 데이터프레임을 출력\n",
    "print(\"귤 데이터프레임:\")\n",
    "print(dfs['귤'])\n",
    "\n",
    "print(\"납작복숭아 데이터프레임:\")\n",
    "print(dfs['납작복숭아'])\n",
    "\n",
    "print(\"딸기 데이터프레임:\")\n",
    "print(dfs['딸기'])\n",
    "\n",
    "print(\"망고 데이터프레임:\")\n",
    "print(dfs['망고'])\n",
    "\n",
    "print(\"멜론 데이터프레임:\")\n",
    "print(dfs['멜론'])"
   ]
  },
  {
   "cell_type": "code",
   "execution_count": 77,
   "id": "b1f02fcf",
   "metadata": {},
   "outputs": [
    {
     "name": "stdout",
     "output_type": "stream",
     "text": [
      "귤 데이터프레임:\n",
      "               https://namu.wiki/w/%EA%B7%A4?rev=852\n",
      "0  https://www.lotteon.com/search/search/search.e...\n",
      "1  http://browse.gmarket.co.kr/list?category=3000...\n",
      "2  https://www.lotteon.com/search/search/search.e...\n",
      "3  http://browse.gmarket.co.kr/list?category=3000...\n",
      "4  https://culture.seogwipo.go.kr/citrus/story/lo...\n",
      "5  http://tourdigital.co.kr/contents/item.php?it_...\n",
      "납작복숭아 데이터프레임:\n",
      "  https://m.shoppinghow.kakao.com/m/search/q/%EB%82%A9%EC%9E%91%20%EB%B3%B5%EC%88%AD%EC%95%84\n",
      "0  https://www.lotteon.com/search/search/search.e...                                         \n",
      "1  https://www.sanghafarm.co.kr/product/detail.js...                                         \n",
      "2  https://m.shoppinghow.kakao.com/m/search/q/%EB...                                         \n",
      "3  https://www.sanghafarm.co.kr/product/detail.js...                                         \n",
      "4  https://m.shoppinghow.kakao.com/m/search/q/%EB...                                         \n",
      "5  https://m.midamstore.co.kr/product/%EC%9C%A0%E...                                         \n",
      "딸기 데이터프레임:\n",
      "              https://namu.wiki/w/%EB%94%B8%EA%B8%B0\n",
      "0   https://ko.wikipedia.org/wiki/%EB%94%B8%EA%B8%B0\n",
      "1       https://encykorea.aks.ac.kr/Article/E0017178\n",
      "2  http://browse.gmarket.co.kr/list?category=3000...\n",
      "3   https://www.sanencheong.com/goods/view?no=105777\n",
      "4  https://www.lotteon.com/search/search/search.e...\n",
      "5      https://m.dongascience.com/news.php?idx=59928\n",
      "망고 데이터프레임:\n",
      "              https://namu.wiki/w/%EB%A7%9D%EA%B3%A0\n",
      "0                        https://www.mangoboard.net/\n",
      "1  https://shop.mango.com/kr/%E1%84%8B%E1%85%A7%E...\n",
      "2  https://ko.wikipedia.org/wiki/%EB%A7%9D%EA%B3%...\n",
      "3  https://www.healthinnews.co.kr/news/articleVie...\n",
      "4   https://ko.wikipedia.org/wiki/%EB%A7%9D%EA%B3%A0\n",
      "멜론 데이터프레임:\n",
      "                               https://m2.melon.com/\n",
      "0                              https://m2.melon.com/\n",
      "1  https://play.google.com/store/apps/details?id=...\n",
      "2  https://play.google.com/store/apps/details?id=...\n",
      "3             https://namu.wiki/w/%EB%A9%9C%EB%A1%A0\n",
      "4  https://www.youtube.com/channel/UCpBlDSUyOpP1W...\n"
     ]
    }
   ],
   "source": [
    "#심화과정\n",
    "# 각각의 CSV 파일을 데이터프레임으로 불러와서 딕셔너리에 저장\n",
    "for file_name in csv_files:\n",
    "    # 파일 이름에서 과일 이름 추출\n",
    "    fruit_name = file_name.split('_')[0]\n",
    "    # CSV 파일을 데이터프레임으로 불러오기\n",
    "    file_path = os.path.join(directory_path, file_name)\n",
    "    df = pd.read_csv(file_path)\n",
    "    # 딕셔너리에 데이터프레임 저장\n",
    "    dfs[fruit_name] = df\n",
    "\n",
    "# 각각의 데이터프레임을 루프로 출력\n",
    "for fruit_name, df in dfs.items():\n",
    "    print(f\"{fruit_name} 데이터프레임:\")\n",
    "    print(df)"
   ]
  },
  {
   "cell_type": "markdown",
   "id": "4c8dc620",
   "metadata": {},
   "source": [
    "### 함수(Function)\n",
    "#### 함수는 특정한 기능을 수행하는 코드의 집합. 즉, 여러 문장을 하나로 묶는 기능."
   ]
  },
  {
   "cell_type": "code",
   "execution_count": 79,
   "id": "5b5d40ef",
   "metadata": {},
   "outputs": [],
   "source": [
    "#함수의 기본구조\n",
    "def absolute(n):\n",
    "    if n < 0:\n",
    "        n = -n\n",
    "    return n"
   ]
  },
  {
   "cell_type": "markdown",
   "id": "ce161c28",
   "metadata": {},
   "source": [
    "return은 반환을 의미, 이를 만나면 함수가 끝나고, 함수가 호출된 곳으로 전달됨"
   ]
  },
  {
   "cell_type": "code",
   "execution_count": 80,
   "id": "e3d6defc",
   "metadata": {},
   "outputs": [
    {
     "data": {
      "text/plain": [
       "3"
      ]
     },
     "execution_count": 80,
     "metadata": {},
     "output_type": "execute_result"
    }
   ],
   "source": [
    "absolute(3)"
   ]
  },
  {
   "cell_type": "code",
   "execution_count": 81,
   "id": "cc142467",
   "metadata": {},
   "outputs": [
    {
     "data": {
      "text/plain": [
       "1"
      ]
     },
     "execution_count": 81,
     "metadata": {},
     "output_type": "execute_result"
    }
   ],
   "source": [
    "absolute(-1)"
   ]
  },
  {
   "cell_type": "code",
   "execution_count": 82,
   "id": "742273f2",
   "metadata": {},
   "outputs": [],
   "source": [
    "def total(a, b):\n",
    "    return a+b"
   ]
  },
  {
   "cell_type": "code",
   "execution_count": 83,
   "id": "e616b2e6",
   "metadata": {},
   "outputs": [
    {
     "data": {
      "text/plain": [
       "6"
      ]
     },
     "execution_count": 83,
     "metadata": {},
     "output_type": "execute_result"
    }
   ],
   "source": [
    "total(1,5)"
   ]
  }
 ],
 "metadata": {
  "kernelspec": {
   "display_name": "Python 3 (ipykernel)",
   "language": "python",
   "name": "python3"
  },
  "language_info": {
   "codemirror_mode": {
    "name": "ipython",
    "version": 3
   },
   "file_extension": ".py",
   "mimetype": "text/x-python",
   "name": "python",
   "nbconvert_exporter": "python",
   "pygments_lexer": "ipython3",
   "version": "3.9.7"
  }
 },
 "nbformat": 4,
 "nbformat_minor": 5
}

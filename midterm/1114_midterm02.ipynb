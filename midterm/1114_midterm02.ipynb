{
 "cells": [
  {
   "cell_type": "code",
   "execution_count": 1,
   "metadata": {},
   "outputs": [],
   "source": [
    "import pandas as pd"
   ]
  },
  {
   "cell_type": "code",
   "execution_count": 16,
   "metadata": {},
   "outputs": [],
   "source": [
    "df = pd.read_csv('./data/중간시험/세종특별자치시_용도별건물정보.csv', encoding='cp949')"
   ]
  },
  {
   "cell_type": "code",
   "execution_count": 17,
   "metadata": {},
   "outputs": [],
   "source": [
    "for i, row in df.iterrows():\n",
    "    if row['건물높이'] == 0:\n",
    "        df.loc[i, '건물높이'] = row['지상층수'] * 3"
   ]
  },
  {
   "cell_type": "code",
   "execution_count": 24,
   "metadata": {},
   "outputs": [
    {
     "data": {
      "text/plain": [
       "376"
      ]
     },
     "execution_count": 24,
     "metadata": {},
     "output_type": "execute_result"
    }
   ],
   "source": [
    "len(df.query('건물높이 >= 20'))"
   ]
  },
  {
   "cell_type": "code",
   "execution_count": 20,
   "metadata": {},
   "outputs": [
    {
     "data": {
      "text/plain": [
       "Index(['GIS건물통합식별번호', '고유번호', '법정동코드', '법정동명', '특수지구분코드', '특수지구분명', '지번',\n",
       "       '건물식별번호', '집합건물구분코드', '집합건물구분', '대장종류코드', '대장종류', '건물명', '건물동명',\n",
       "       '건물주부구분코드', '건물주부구분명', '건물대지면적', '건물건축면적', '건물연면적', '용적율', '건폐율',\n",
       "       '건축물구조코드', '건축물구조명', '주요용도코드', '주요용도명', '세부용도코드', '세부용도명', '건물용도분류코드',\n",
       "       '건물용도분류명', '건물높이', '지상층수', '지하층수', '허가일자', '사용승인일자', '데이터기준일자'],\n",
       "      dtype='object')"
      ]
     },
     "execution_count": 20,
     "metadata": {},
     "output_type": "execute_result"
    }
   ],
   "source": [
    "df.columns"
   ]
  },
  {
   "cell_type": "code",
   "execution_count": 27,
   "metadata": {},
   "outputs": [],
   "source": [
    "for i, row in df.iterrows():\n",
    "    if row['건물연면적'] == 0:\n",
    "        df.loc[i, '건물연면적'] = row['용적율'] * row['건물대지면적'] * 0.01"
   ]
  },
  {
   "cell_type": "code",
   "execution_count": 28,
   "metadata": {},
   "outputs": [
    {
     "data": {
      "text/plain": [
       "2672"
      ]
     },
     "execution_count": 28,
     "metadata": {},
     "output_type": "execute_result"
    }
   ],
   "source": [
    "len(df.query('건물연면적 >= 500'))"
   ]
  },
  {
   "cell_type": "code",
   "execution_count": 30,
   "metadata": {},
   "outputs": [
    {
     "data": {
      "text/html": [
       "<div>\n",
       "<style scoped>\n",
       "    .dataframe tbody tr th:only-of-type {\n",
       "        vertical-align: middle;\n",
       "    }\n",
       "\n",
       "    .dataframe tbody tr th {\n",
       "        vertical-align: top;\n",
       "    }\n",
       "\n",
       "    .dataframe thead th {\n",
       "        text-align: right;\n",
       "    }\n",
       "</style>\n",
       "<table border=\"1\" class=\"dataframe\">\n",
       "  <thead>\n",
       "    <tr style=\"text-align: right;\">\n",
       "      <th></th>\n",
       "      <th>법정동명</th>\n",
       "      <th>건물연면적</th>\n",
       "    </tr>\n",
       "  </thead>\n",
       "  <tbody>\n",
       "    <tr>\n",
       "      <th>0</th>\n",
       "      <td>세종특별자치시 가람동</td>\n",
       "      <td>27991.360</td>\n",
       "    </tr>\n",
       "    <tr>\n",
       "      <th>1</th>\n",
       "      <td>세종특별자치시 고운동</td>\n",
       "      <td>117675.548</td>\n",
       "    </tr>\n",
       "    <tr>\n",
       "      <th>2</th>\n",
       "      <td>세종특별자치시 금남면 감성리</td>\n",
       "      <td>16051.460</td>\n",
       "    </tr>\n",
       "    <tr>\n",
       "      <th>3</th>\n",
       "      <td>세종특별자치시 금남면 국곡리</td>\n",
       "      <td>17739.560</td>\n",
       "    </tr>\n",
       "    <tr>\n",
       "      <th>4</th>\n",
       "      <td>세종특별자치시 금남면 금천리</td>\n",
       "      <td>18066.405</td>\n",
       "    </tr>\n",
       "    <tr>\n",
       "      <th>...</th>\n",
       "      <td>...</td>\n",
       "      <td>...</td>\n",
       "    </tr>\n",
       "    <tr>\n",
       "      <th>135</th>\n",
       "      <td>세종특별자치시 종촌동</td>\n",
       "      <td>1278.190</td>\n",
       "    </tr>\n",
       "    <tr>\n",
       "      <th>136</th>\n",
       "      <td>세종특별자치시 집현동</td>\n",
       "      <td>15193.920</td>\n",
       "    </tr>\n",
       "    <tr>\n",
       "      <th>137</th>\n",
       "      <td>세종특별자치시 한솔동</td>\n",
       "      <td>869869.509</td>\n",
       "    </tr>\n",
       "    <tr>\n",
       "      <th>138</th>\n",
       "      <td>세종특별자치시 합강동</td>\n",
       "      <td>5899.120</td>\n",
       "    </tr>\n",
       "    <tr>\n",
       "      <th>139</th>\n",
       "      <td>세종특별자치시 해밀동</td>\n",
       "      <td>4395.380</td>\n",
       "    </tr>\n",
       "  </tbody>\n",
       "</table>\n",
       "<p>140 rows × 2 columns</p>\n",
       "</div>"
      ],
      "text/plain": [
       "                법정동명       건물연면적\n",
       "0        세종특별자치시 가람동   27991.360\n",
       "1        세종특별자치시 고운동  117675.548\n",
       "2    세종특별자치시 금남면 감성리   16051.460\n",
       "3    세종특별자치시 금남면 국곡리   17739.560\n",
       "4    세종특별자치시 금남면 금천리   18066.405\n",
       "..               ...         ...\n",
       "135      세종특별자치시 종촌동    1278.190\n",
       "136      세종특별자치시 집현동   15193.920\n",
       "137      세종특별자치시 한솔동  869869.509\n",
       "138      세종특별자치시 합강동    5899.120\n",
       "139      세종특별자치시 해밀동    4395.380\n",
       "\n",
       "[140 rows x 2 columns]"
      ]
     },
     "execution_count": 30,
     "metadata": {},
     "output_type": "execute_result"
    }
   ],
   "source": [
    "result_df = df.groupby('법정동명')['건물연면적'].sum().reset_index()\n",
    "result_df"
   ]
  },
  {
   "cell_type": "code",
   "execution_count": 31,
   "metadata": {},
   "outputs": [],
   "source": [
    "import os"
   ]
  },
  {
   "cell_type": "code",
   "execution_count": 36,
   "metadata": {},
   "outputs": [],
   "source": [
    "incheon_path = './data/중간시험/인천시_용도별건물정보/'\n",
    "file_list = os.listdir(incheon_path)"
   ]
  },
  {
   "cell_type": "code",
   "execution_count": 37,
   "metadata": {},
   "outputs": [
    {
     "name": "stdout",
     "output_type": "stream",
     "text": [
      "미추홀구\n",
      "옹진군\n",
      "강화군\n",
      "남동구\n",
      "서구\n",
      "부평구\n",
      "연수구\n",
      "계양구\n",
      "중구\n",
      "동구\n"
     ]
    }
   ],
   "source": [
    "dfs = {}\n",
    "for file_name in file_list:\n",
    "  place = file_name.split('_')[0].split('+')[1]\n",
    "  print(place)\n",
    "  file_path = os.path.join(incheon_path, file_name)\n",
    "  dfs[place] = pd.read_csv(file_path, encoding='cp949')"
   ]
  },
  {
   "cell_type": "code",
   "execution_count": 38,
   "metadata": {},
   "outputs": [],
   "source": [
    "def change_value(df, is_height):\n",
    "    if is_height:\n",
    "      for i, row in df.iterrows():\n",
    "          if row['건물높이'] == 0:\n",
    "              df.loc[i, '건물높이'] = row['지상층수'] * 3\n",
    "    else:\n",
    "        for i, row in df.iterrows():\n",
    "          if row['건물연면적'] == 0:\n",
    "              df.loc[i, '건물연면적'] = row['용적율'] * row['건물대지면적'] * 0.01"
   ]
  },
  {
   "cell_type": "code",
   "execution_count": 39,
   "metadata": {},
   "outputs": [],
   "source": [
    "for df in dfs.values():\n",
    "    change_value(df, True)"
   ]
  },
  {
   "cell_type": "code",
   "execution_count": 43,
   "metadata": {},
   "outputs": [
    {
     "name": "stdout",
     "output_type": "stream",
     "text": [
      "2470\n"
     ]
    }
   ],
   "source": [
    "high_building_count = 0\n",
    "for df in dfs.values():\n",
    "  high_building_count += len(df.query('건물높이 >= 50'))\n",
    "print(high_building_count)"
   ]
  },
  {
   "cell_type": "code",
   "execution_count": 40,
   "metadata": {},
   "outputs": [],
   "source": [
    "for df in dfs.values():\n",
    "    change_value(df, False)"
   ]
  },
  {
   "cell_type": "code",
   "execution_count": 46,
   "metadata": {},
   "outputs": [
    {
     "data": {
      "text/plain": [
       "{'미추홀구': 18905495.223579995,\n",
       " '옹진군': 1148465.1427000002,\n",
       " '강화군': 4385514.949,\n",
       " '남동구': 28992475.990650002,\n",
       " '서구': 29206197.014875002,\n",
       " '부평구': 32807099.4295,\n",
       " '연수구': 22027636.302130003,\n",
       " '계양구': 13747565.621800002,\n",
       " '중구': 8325047.1219999995,\n",
       " '동구': 4005457.5241}"
      ]
     },
     "execution_count": 46,
     "metadata": {},
     "output_type": "execute_result"
    }
   ],
   "source": [
    "gfa = {}\n",
    "for i, df in dfs.items():\n",
    "  result = df['건물연면적'].sum()\n",
    "  gfa[i] = result\n",
    "gfa"
   ]
  },
  {
   "cell_type": "code",
   "execution_count": 49,
   "metadata": {},
   "outputs": [],
   "source": [
    "df = pd.DataFrame(gfa.items(), columns=['기초지자체명', '건물연면적'])\n",
    "pd.set_option('display.float_format', '{:.6f}'.format)"
   ]
  },
  {
   "cell_type": "code",
   "execution_count": 50,
   "metadata": {},
   "outputs": [
    {
     "data": {
      "text/html": [
       "<div>\n",
       "<style scoped>\n",
       "    .dataframe tbody tr th:only-of-type {\n",
       "        vertical-align: middle;\n",
       "    }\n",
       "\n",
       "    .dataframe tbody tr th {\n",
       "        vertical-align: top;\n",
       "    }\n",
       "\n",
       "    .dataframe thead th {\n",
       "        text-align: right;\n",
       "    }\n",
       "</style>\n",
       "<table border=\"1\" class=\"dataframe\">\n",
       "  <thead>\n",
       "    <tr style=\"text-align: right;\">\n",
       "      <th></th>\n",
       "      <th>기초지자체명</th>\n",
       "      <th>건물연면적</th>\n",
       "    </tr>\n",
       "  </thead>\n",
       "  <tbody>\n",
       "    <tr>\n",
       "      <th>0</th>\n",
       "      <td>미추홀구</td>\n",
       "      <td>18905495.223580</td>\n",
       "    </tr>\n",
       "    <tr>\n",
       "      <th>1</th>\n",
       "      <td>옹진군</td>\n",
       "      <td>1148465.142700</td>\n",
       "    </tr>\n",
       "    <tr>\n",
       "      <th>2</th>\n",
       "      <td>강화군</td>\n",
       "      <td>4385514.949000</td>\n",
       "    </tr>\n",
       "    <tr>\n",
       "      <th>3</th>\n",
       "      <td>남동구</td>\n",
       "      <td>28992475.990650</td>\n",
       "    </tr>\n",
       "    <tr>\n",
       "      <th>4</th>\n",
       "      <td>서구</td>\n",
       "      <td>29206197.014875</td>\n",
       "    </tr>\n",
       "    <tr>\n",
       "      <th>5</th>\n",
       "      <td>부평구</td>\n",
       "      <td>32807099.429500</td>\n",
       "    </tr>\n",
       "    <tr>\n",
       "      <th>6</th>\n",
       "      <td>연수구</td>\n",
       "      <td>22027636.302130</td>\n",
       "    </tr>\n",
       "    <tr>\n",
       "      <th>7</th>\n",
       "      <td>계양구</td>\n",
       "      <td>13747565.621800</td>\n",
       "    </tr>\n",
       "    <tr>\n",
       "      <th>8</th>\n",
       "      <td>중구</td>\n",
       "      <td>8325047.122000</td>\n",
       "    </tr>\n",
       "    <tr>\n",
       "      <th>9</th>\n",
       "      <td>동구</td>\n",
       "      <td>4005457.524100</td>\n",
       "    </tr>\n",
       "  </tbody>\n",
       "</table>\n",
       "</div>"
      ],
      "text/plain": [
       "      기초지자체명           건물연면적\n",
       "0  미추홀구 18905495.223580\n",
       "1  옹진군  1148465.142700\n",
       "2   강화군  4385514.949000\n",
       "3   남동구 28992475.990650\n",
       "4       서구 29206197.014875\n",
       "5    부평구 32807099.429500\n",
       "6    연수구 22027636.302130\n",
       "7    계양구 13747565.621800\n",
       "8      중구  8325047.122000\n",
       "9      동구  4005457.524100"
      ]
     },
     "execution_count": 50,
     "metadata": {},
     "output_type": "execute_result"
    }
   ],
   "source": [
    "df"
   ]
  },
  {
   "cell_type": "code",
   "execution_count": null,
   "metadata": {},
   "outputs": [],
   "source": []
  }
 ],
 "metadata": {
  "kernelspec": {
   "display_name": "base",
   "language": "python",
   "name": "python3"
  },
  "language_info": {
   "codemirror_mode": {
    "name": "ipython",
    "version": 3
   },
   "file_extension": ".py",
   "mimetype": "text/x-python",
   "name": "python",
   "nbconvert_exporter": "python",
   "pygments_lexer": "ipython3",
   "version": "3.11.5"
  }
 },
 "nbformat": 4,
 "nbformat_minor": 2
}

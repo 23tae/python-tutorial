{
 "cells": [
  {
   "cell_type": "code",
   "execution_count": 8,
   "metadata": {},
   "outputs": [
    {
     "data": {
      "text/plain": [
       "376"
      ]
     },
     "execution_count": 8,
     "metadata": {},
     "output_type": "execute_result"
    }
   ],
   "source": [
    "#6번문제 모범답안\n",
    "\n",
    "import pandas as pd\n",
    "df = pd.read_csv('세종특별자치시_용도별건물정보.csv',encoding='cp949')\n",
    "\n",
    "for index, row in df.iterrows():\n",
    "    if row['건물높이'] == 0:\n",
    "        df.at[index, '건물높이'] = 3 * row['지상층수']\n",
    "\n",
    "len(df.loc[df['건물높이'] >= 20])\n",
    "\n",
    "\n",
    "#over_20m = df['건물높이'] >= 20\n",
    "#df_over_20m = df[over_20m]\n",
    "#df_over_20m \n"
   ]
  },
  {
   "cell_type": "code",
   "execution_count": 12,
   "metadata": {},
   "outputs": [
    {
     "data": {
      "text/plain": [
       "2672"
      ]
     },
     "execution_count": 12,
     "metadata": {},
     "output_type": "execute_result"
    }
   ],
   "source": [
    "#7번문제 모범답안\n",
    "\n",
    "import pandas as pd\n",
    "df = pd.read_csv('세종특별자치시_용도별건물정보.csv',encoding='cp949')\n",
    "\n",
    "for index, row in df.iterrows():\n",
    "    if row['건물연면적'] == 0:\n",
    "        df.at[index, '건물연면적'] = row['건물대지면적']*row['용적율']/100\n",
    "\n",
    "len(df.loc[df['건물연면적'] >= 500])"
   ]
  },
  {
   "cell_type": "code",
   "execution_count": 15,
   "metadata": {},
   "outputs": [
    {
     "name": "stdout",
     "output_type": "stream",
     "text": [
      "                법정동명       건물연면적\n",
      "0        세종특별자치시 가람동   27991.360\n",
      "1        세종특별자치시 고운동  117675.548\n",
      "2    세종특별자치시 금남면 감성리   16051.460\n",
      "3    세종특별자치시 금남면 국곡리   17739.560\n",
      "4    세종특별자치시 금남면 금천리   18066.405\n",
      "..               ...         ...\n",
      "135      세종특별자치시 종촌동    1278.190\n",
      "136      세종특별자치시 집현동   15193.920\n",
      "137      세종특별자치시 한솔동  869869.509\n",
      "138      세종특별자치시 합강동    5899.120\n",
      "139      세종특별자치시 해밀동    4395.380\n",
      "\n",
      "[140 rows x 2 columns]\n"
     ]
    }
   ],
   "source": [
    "#8번문제 모범답안\n",
    "\n",
    "dong_totals = df.groupby('법정동명')['건물연면적'].sum().reset_index()\n",
    "print(dong_totals)\n"
   ]
  },
  {
   "cell_type": "code",
   "execution_count": 35,
   "metadata": {},
   "outputs": [
    {
     "name": "stdout",
     "output_type": "stream",
     "text": [
      "모든 행정구역을 합쳐서 100m 이상의 건물 개수: 86개\n"
     ]
    }
   ],
   "source": [
    "#9번문제 모범답안\n",
    "import pandas as pd\n",
    "import os\n",
    "\n",
    "folder_path = './인천시_용도별건물정보/'\n",
    "all_files = os.listdir(folder_path)\n",
    "\n",
    "total_high_buildings = 0\n",
    "\n",
    "for file_name in all_files:\n",
    "    file_path = os.path.join(folder_path, file_name)\n",
    "\n",
    "    df = pd.read_csv(file_path, encoding='cp949')\n",
    "    df['건물높이'] = pd.to_numeric(df['건물높이'], errors='coerce')\n",
    "    for index, row in df.iterrows():\n",
    "        if row['건물연면적'] == 0:\n",
    "            df.at[index, '건물연면적'] = row['건물대지면적']*row['용적율']/100\n",
    "    high_buildings_count = df[df['건물높이'] >= 50].shape[0]\n",
    "\n",
    "    total_high_buildings += high_buildings_count\n",
    "\n",
    "print(f\"모든 행정구역을 합쳐서 100m 이상의 건물 개수: {high_buildings_count}개\")\n"
   ]
  },
  {
   "cell_type": "code",
   "execution_count": 24,
   "metadata": {},
   "outputs": [
    {
     "name": "stdout",
     "output_type": "stream",
     "text": [
      "인천광역시+미추홀구_용도별건물정보.csv: 18905495.223579995 제곱미터\n",
      "인천광역시+옹진군_용도별건물정보.csv: 1148465.1427000002 제곱미터\n",
      "인천광역시+강화군_용도별건물정보.csv: 4385514.949 제곱미터\n",
      "인천광역시+남동구_용도별건물정보.csv: 28992475.990650002 제곱미터\n",
      "인천광역시+서구_용도별건물정보.csv: 29206197.014875002 제곱미터\n",
      "인천광역시+부평구_용도별건물정보.csv: 32807099.4295 제곱미터\n",
      "인천광역시+연수구_용도별건물정보.csv: 22027636.302130003 제곱미터\n",
      "인천광역시+계양구_용도별건물정보.csv: 13747565.621800002 제곱미터\n",
      "인천광역시+중구_용도별건물정보.csv: 8325047.1219999995 제곱미터\n",
      "인천광역시+동구_용도별건물정보.csv: 4005457.5241 제곱미터\n"
     ]
    }
   ],
   "source": [
    "#10번문제 모범답안\n",
    "import pandas as pd\n",
    "import os\n",
    "\n",
    "folder_path = './인천시_용도별건물정보/'\n",
    "\n",
    "all_files = os.listdir(folder_path)\n",
    "total_areas = {}\n",
    "\n",
    "for file_name in all_files:\n",
    "    file_path = os.path.join(folder_path, file_name)\n",
    "    df = pd.read_csv(file_path, encoding='cp949') \n",
    "\n",
    "    for index, row in df.iterrows():\n",
    "        if row['건물연면적'] == 0:\n",
    "            df.at[index, '건물연면적'] = row['건물대지면적']*row['용적율']/100\n",
    "    \n",
    "    total_area = df['건물연면적'].sum()\n",
    "    total_areas[file_name] = total_area\n",
    "\n",
    "for file_name, total_area in total_areas.items():\n",
    "    print(f\"{file_name}: {total_area} 제곱미터\")\n"
   ]
  }
 ],
 "metadata": {
  "kernelspec": {
   "display_name": "base",
   "language": "python",
   "name": "python3"
  },
  "language_info": {
   "codemirror_mode": {
    "name": "ipython",
    "version": 3
   },
   "file_extension": ".py",
   "mimetype": "text/x-python",
   "name": "python",
   "nbconvert_exporter": "python",
   "pygments_lexer": "ipython3",
   "version": "3.9.12"
  }
 },
 "nbformat": 4,
 "nbformat_minor": 2
}

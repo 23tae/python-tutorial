{
 "cells": [
  {
   "cell_type": "code",
   "execution_count": 1,
   "metadata": {},
   "outputs": [],
   "source": [
    "import pandas as pd"
   ]
  },
  {
   "cell_type": "code",
   "execution_count": 2,
   "metadata": {},
   "outputs": [],
   "source": [
    "do_df = pd.read_csv('./data/경기도시군별온실가스배출량.csv', encoding='cp949')"
   ]
  },
  {
   "cell_type": "code",
   "execution_count": 3,
   "metadata": {},
   "outputs": [],
   "source": [
    "do_df = do_df[do_df['대상업체및사업장통계'] != 0]"
   ]
  },
  {
   "cell_type": "code",
   "execution_count": 4,
   "metadata": {},
   "outputs": [],
   "source": [
    "do_df.drop(columns=['대상업체및사업장통계', '통계업종'], axis=1, inplace=True)"
   ]
  },
  {
   "cell_type": "code",
   "execution_count": 5,
   "metadata": {},
   "outputs": [
    {
     "data": {
      "text/html": [
       "<div>\n",
       "<style scoped>\n",
       "    .dataframe tbody tr th:only-of-type {\n",
       "        vertical-align: middle;\n",
       "    }\n",
       "\n",
       "    .dataframe tbody tr th {\n",
       "        vertical-align: top;\n",
       "    }\n",
       "\n",
       "    .dataframe thead th {\n",
       "        text-align: right;\n",
       "    }\n",
       "</style>\n",
       "<table border=\"1\" class=\"dataframe\">\n",
       "  <thead>\n",
       "    <tr style=\"text-align: right;\">\n",
       "      <th></th>\n",
       "      <th>년도</th>\n",
       "      <th>시군명</th>\n",
       "      <th>전체온실가스배출량(tonCO2-eq)</th>\n",
       "    </tr>\n",
       "  </thead>\n",
       "  <tbody>\n",
       "    <tr>\n",
       "      <th>0</th>\n",
       "      <td>2017</td>\n",
       "      <td>파주시</td>\n",
       "      <td>3204613.0</td>\n",
       "    </tr>\n",
       "    <tr>\n",
       "      <th>1</th>\n",
       "      <td>2018</td>\n",
       "      <td>파주시</td>\n",
       "      <td>4711876.0</td>\n",
       "    </tr>\n",
       "    <tr>\n",
       "      <th>2</th>\n",
       "      <td>2019</td>\n",
       "      <td>파주시</td>\n",
       "      <td>4823291.0</td>\n",
       "    </tr>\n",
       "    <tr>\n",
       "      <th>3</th>\n",
       "      <td>2011</td>\n",
       "      <td>평택시</td>\n",
       "      <td>1020185.0</td>\n",
       "    </tr>\n",
       "    <tr>\n",
       "      <th>4</th>\n",
       "      <td>2012</td>\n",
       "      <td>평택시</td>\n",
       "      <td>1085897.0</td>\n",
       "    </tr>\n",
       "    <tr>\n",
       "      <th>...</th>\n",
       "      <td>...</td>\n",
       "      <td>...</td>\n",
       "      <td>...</td>\n",
       "    </tr>\n",
       "    <tr>\n",
       "      <th>238</th>\n",
       "      <td>2012</td>\n",
       "      <td>파주시</td>\n",
       "      <td>124841.0</td>\n",
       "    </tr>\n",
       "    <tr>\n",
       "      <th>239</th>\n",
       "      <td>2013</td>\n",
       "      <td>파주시</td>\n",
       "      <td>276413.0</td>\n",
       "    </tr>\n",
       "    <tr>\n",
       "      <th>240</th>\n",
       "      <td>2014</td>\n",
       "      <td>파주시</td>\n",
       "      <td>405488.0</td>\n",
       "    </tr>\n",
       "    <tr>\n",
       "      <th>241</th>\n",
       "      <td>2015</td>\n",
       "      <td>파주시</td>\n",
       "      <td>476285.0</td>\n",
       "    </tr>\n",
       "    <tr>\n",
       "      <th>242</th>\n",
       "      <td>2016</td>\n",
       "      <td>파주시</td>\n",
       "      <td>499834.0</td>\n",
       "    </tr>\n",
       "  </tbody>\n",
       "</table>\n",
       "<p>218 rows × 3 columns</p>\n",
       "</div>"
      ],
      "text/plain": [
       "       년도  시군명  전체온실가스배출량(tonCO2-eq)\n",
       "0    2017  파주시             3204613.0\n",
       "1    2018  파주시             4711876.0\n",
       "2    2019  파주시             4823291.0\n",
       "3    2011  평택시             1020185.0\n",
       "4    2012  평택시             1085897.0\n",
       "..    ...  ...                   ...\n",
       "238  2012  파주시              124841.0\n",
       "239  2013  파주시              276413.0\n",
       "240  2014  파주시              405488.0\n",
       "241  2015  파주시              476285.0\n",
       "242  2016  파주시              499834.0\n",
       "\n",
       "[218 rows x 3 columns]"
      ]
     },
     "execution_count": 5,
     "metadata": {},
     "output_type": "execute_result"
    }
   ],
   "source": [
    "do_df"
   ]
  },
  {
   "cell_type": "code",
   "execution_count": 6,
   "metadata": {},
   "outputs": [],
   "source": [
    "pocheon_df = do_df[do_df['시군명'] == '포천시']"
   ]
  },
  {
   "cell_type": "code",
   "execution_count": 7,
   "metadata": {},
   "outputs": [
    {
     "data": {
      "text/html": [
       "<div>\n",
       "<style scoped>\n",
       "    .dataframe tbody tr th:only-of-type {\n",
       "        vertical-align: middle;\n",
       "    }\n",
       "\n",
       "    .dataframe tbody tr th {\n",
       "        vertical-align: top;\n",
       "    }\n",
       "\n",
       "    .dataframe thead th {\n",
       "        text-align: right;\n",
       "    }\n",
       "</style>\n",
       "<table border=\"1\" class=\"dataframe\">\n",
       "  <thead>\n",
       "    <tr style=\"text-align: right;\">\n",
       "      <th></th>\n",
       "      <th>년도</th>\n",
       "      <th>시군명</th>\n",
       "      <th>전체온실가스배출량(tonCO2-eq)</th>\n",
       "    </tr>\n",
       "  </thead>\n",
       "  <tbody>\n",
       "    <tr>\n",
       "      <th>15</th>\n",
       "      <td>2014</td>\n",
       "      <td>포천시</td>\n",
       "      <td>1967362.0</td>\n",
       "    </tr>\n",
       "    <tr>\n",
       "      <th>16</th>\n",
       "      <td>2015</td>\n",
       "      <td>포천시</td>\n",
       "      <td>2285501.0</td>\n",
       "    </tr>\n",
       "    <tr>\n",
       "      <th>17</th>\n",
       "      <td>2016</td>\n",
       "      <td>포천시</td>\n",
       "      <td>2001309.0</td>\n",
       "    </tr>\n",
       "    <tr>\n",
       "      <th>18</th>\n",
       "      <td>2017</td>\n",
       "      <td>포천시</td>\n",
       "      <td>2917029.0</td>\n",
       "    </tr>\n",
       "    <tr>\n",
       "      <th>19</th>\n",
       "      <td>2018</td>\n",
       "      <td>포천시</td>\n",
       "      <td>3079392.0</td>\n",
       "    </tr>\n",
       "    <tr>\n",
       "      <th>20</th>\n",
       "      <td>2019</td>\n",
       "      <td>포천시</td>\n",
       "      <td>2550629.0</td>\n",
       "    </tr>\n",
       "  </tbody>\n",
       "</table>\n",
       "</div>"
      ],
      "text/plain": [
       "      년도  시군명  전체온실가스배출량(tonCO2-eq)\n",
       "15  2014  포천시             1967362.0\n",
       "16  2015  포천시             2285501.0\n",
       "17  2016  포천시             2001309.0\n",
       "18  2017  포천시             2917029.0\n",
       "19  2018  포천시             3079392.0\n",
       "20  2019  포천시             2550629.0"
      ]
     },
     "execution_count": 7,
     "metadata": {},
     "output_type": "execute_result"
    }
   ],
   "source": [
    "pocheon_df"
   ]
  },
  {
   "cell_type": "code",
   "execution_count": 8,
   "metadata": {},
   "outputs": [],
   "source": [
    "grouped_do_df = do_df.groupby('시군명')"
   ]
  },
  {
   "cell_type": "code",
   "execution_count": 9,
   "metadata": {},
   "outputs": [],
   "source": [
    "pd.set_option('display.float_format', '{:.0f}'.format)"
   ]
  },
  {
   "cell_type": "code",
   "execution_count": 10,
   "metadata": {},
   "outputs": [],
   "source": [
    "mean_grouped_do_df = grouped_do_df.mean()\n",
    "# sum_grouped_do_df = grouped_do_df.sum()"
   ]
  },
  {
   "cell_type": "code",
   "execution_count": 11,
   "metadata": {},
   "outputs": [],
   "source": [
    "mean_grouped_do_df.drop(columns='년도', axis=1, inplace=True)\n",
    "# sum_grouped_do_df.drop(columns='년도', axis=1, inplace=True)"
   ]
  },
  {
   "cell_type": "code",
   "execution_count": 12,
   "metadata": {},
   "outputs": [
    {
     "data": {
      "text/html": [
       "<div>\n",
       "<style scoped>\n",
       "    .dataframe tbody tr th:only-of-type {\n",
       "        vertical-align: middle;\n",
       "    }\n",
       "\n",
       "    .dataframe tbody tr th {\n",
       "        vertical-align: top;\n",
       "    }\n",
       "\n",
       "    .dataframe thead th {\n",
       "        text-align: right;\n",
       "    }\n",
       "</style>\n",
       "<table border=\"1\" class=\"dataframe\">\n",
       "  <thead>\n",
       "    <tr style=\"text-align: right;\">\n",
       "      <th></th>\n",
       "      <th>전체온실가스배출량(tonCO2-eq)</th>\n",
       "    </tr>\n",
       "    <tr>\n",
       "      <th>시군명</th>\n",
       "      <th></th>\n",
       "    </tr>\n",
       "  </thead>\n",
       "  <tbody>\n",
       "    <tr>\n",
       "      <th>고양시</th>\n",
       "      <td>236553</td>\n",
       "    </tr>\n",
       "    <tr>\n",
       "      <th>과천시</th>\n",
       "      <td>813808</td>\n",
       "    </tr>\n",
       "    <tr>\n",
       "      <th>광명시</th>\n",
       "      <td>119944</td>\n",
       "    </tr>\n",
       "    <tr>\n",
       "      <th>광주시</th>\n",
       "      <td>351520</td>\n",
       "    </tr>\n",
       "    <tr>\n",
       "      <th>구리시</th>\n",
       "      <td>125669</td>\n",
       "    </tr>\n",
       "    <tr>\n",
       "      <th>군포시</th>\n",
       "      <td>103361</td>\n",
       "    </tr>\n",
       "    <tr>\n",
       "      <th>김포시</th>\n",
       "      <td>52602</td>\n",
       "    </tr>\n",
       "    <tr>\n",
       "      <th>남양주시</th>\n",
       "      <td>142836</td>\n",
       "    </tr>\n",
       "    <tr>\n",
       "      <th>동두천시</th>\n",
       "      <td>2433305</td>\n",
       "    </tr>\n",
       "    <tr>\n",
       "      <th>부천시</th>\n",
       "      <td>331799</td>\n",
       "    </tr>\n",
       "    <tr>\n",
       "      <th>성남시</th>\n",
       "      <td>7186104</td>\n",
       "    </tr>\n",
       "    <tr>\n",
       "      <th>수원시</th>\n",
       "      <td>9054188</td>\n",
       "    </tr>\n",
       "    <tr>\n",
       "      <th>시흥시</th>\n",
       "      <td>1397474</td>\n",
       "    </tr>\n",
       "    <tr>\n",
       "      <th>안산시</th>\n",
       "      <td>5466019</td>\n",
       "    </tr>\n",
       "    <tr>\n",
       "      <th>안성시</th>\n",
       "      <td>71011</td>\n",
       "    </tr>\n",
       "    <tr>\n",
       "      <th>안양시</th>\n",
       "      <td>2248115</td>\n",
       "    </tr>\n",
       "    <tr>\n",
       "      <th>양주시</th>\n",
       "      <td>623647</td>\n",
       "    </tr>\n",
       "    <tr>\n",
       "      <th>여주시</th>\n",
       "      <td>40952</td>\n",
       "    </tr>\n",
       "    <tr>\n",
       "      <th>오산시</th>\n",
       "      <td>668162</td>\n",
       "    </tr>\n",
       "    <tr>\n",
       "      <th>용인시</th>\n",
       "      <td>6773654</td>\n",
       "    </tr>\n",
       "    <tr>\n",
       "      <th>의정부시</th>\n",
       "      <td>135182</td>\n",
       "    </tr>\n",
       "    <tr>\n",
       "      <th>이천시</th>\n",
       "      <td>3367780</td>\n",
       "    </tr>\n",
       "    <tr>\n",
       "      <th>파주시</th>\n",
       "      <td>1626481</td>\n",
       "    </tr>\n",
       "    <tr>\n",
       "      <th>평택시</th>\n",
       "      <td>2212040</td>\n",
       "    </tr>\n",
       "    <tr>\n",
       "      <th>포천시</th>\n",
       "      <td>2466870</td>\n",
       "    </tr>\n",
       "    <tr>\n",
       "      <th>하남시</th>\n",
       "      <td>522970</td>\n",
       "    </tr>\n",
       "    <tr>\n",
       "      <th>화성시</th>\n",
       "      <td>613980</td>\n",
       "    </tr>\n",
       "  </tbody>\n",
       "</table>\n",
       "</div>"
      ],
      "text/plain": [
       "      전체온실가스배출량(tonCO2-eq)\n",
       "시군명                       \n",
       "고양시                 236553\n",
       "과천시                 813808\n",
       "광명시                 119944\n",
       "광주시                 351520\n",
       "구리시                 125669\n",
       "군포시                 103361\n",
       "김포시                  52602\n",
       "남양주시                142836\n",
       "동두천시               2433305\n",
       "부천시                 331799\n",
       "성남시                7186104\n",
       "수원시                9054188\n",
       "시흥시                1397474\n",
       "안산시                5466019\n",
       "안성시                  71011\n",
       "안양시                2248115\n",
       "양주시                 623647\n",
       "여주시                  40952\n",
       "오산시                 668162\n",
       "용인시                6773654\n",
       "의정부시                135182\n",
       "이천시                3367780\n",
       "파주시                1626481\n",
       "평택시                2212040\n",
       "포천시                2466870\n",
       "하남시                 522970\n",
       "화성시                 613980"
      ]
     },
     "execution_count": 12,
     "metadata": {},
     "output_type": "execute_result"
    }
   ],
   "source": [
    "mean_grouped_do_df"
   ]
  },
  {
   "cell_type": "code",
   "execution_count": 13,
   "metadata": {},
   "outputs": [],
   "source": [
    "nearby_cities = ['화성시', '수원시', '안산시', '용인시', '오산시', '평택시']\n",
    "nearby_cities_df = mean_grouped_do_df[mean_grouped_do_df.index.isin(nearby_cities)]"
   ]
  },
  {
   "cell_type": "code",
   "execution_count": 14,
   "metadata": {},
   "outputs": [
    {
     "data": {
      "text/html": [
       "<div>\n",
       "<style scoped>\n",
       "    .dataframe tbody tr th:only-of-type {\n",
       "        vertical-align: middle;\n",
       "    }\n",
       "\n",
       "    .dataframe tbody tr th {\n",
       "        vertical-align: top;\n",
       "    }\n",
       "\n",
       "    .dataframe thead th {\n",
       "        text-align: right;\n",
       "    }\n",
       "</style>\n",
       "<table border=\"1\" class=\"dataframe\">\n",
       "  <thead>\n",
       "    <tr style=\"text-align: right;\">\n",
       "      <th></th>\n",
       "      <th>전체온실가스배출량(tonCO2-eq)</th>\n",
       "    </tr>\n",
       "    <tr>\n",
       "      <th>시군명</th>\n",
       "      <th></th>\n",
       "    </tr>\n",
       "  </thead>\n",
       "  <tbody>\n",
       "    <tr>\n",
       "      <th>수원시</th>\n",
       "      <td>9054188</td>\n",
       "    </tr>\n",
       "    <tr>\n",
       "      <th>안산시</th>\n",
       "      <td>5466019</td>\n",
       "    </tr>\n",
       "    <tr>\n",
       "      <th>오산시</th>\n",
       "      <td>668162</td>\n",
       "    </tr>\n",
       "    <tr>\n",
       "      <th>용인시</th>\n",
       "      <td>6773654</td>\n",
       "    </tr>\n",
       "    <tr>\n",
       "      <th>평택시</th>\n",
       "      <td>2212040</td>\n",
       "    </tr>\n",
       "    <tr>\n",
       "      <th>화성시</th>\n",
       "      <td>613980</td>\n",
       "    </tr>\n",
       "  </tbody>\n",
       "</table>\n",
       "</div>"
      ],
      "text/plain": [
       "     전체온실가스배출량(tonCO2-eq)\n",
       "시군명                      \n",
       "수원시               9054188\n",
       "안산시               5466019\n",
       "오산시                668162\n",
       "용인시               6773654\n",
       "평택시               2212040\n",
       "화성시                613980"
      ]
     },
     "execution_count": 14,
     "metadata": {},
     "output_type": "execute_result"
    }
   ],
   "source": [
    "nearby_cities_df"
   ]
  },
  {
   "cell_type": "code",
   "execution_count": 15,
   "metadata": {},
   "outputs": [],
   "source": [
    "import matplotlib.pyplot as plt\n",
    "import matplotlib"
   ]
  },
  {
   "cell_type": "code",
   "execution_count": 16,
   "metadata": {},
   "outputs": [],
   "source": [
    "matplotlib.rcParams['font.size'] = 15\n",
    "matplotlib.rcParams['font.family'] = 'AppleGothic' \n",
    "matplotlib.rcParams['axes.unicode_minus'] = False"
   ]
  },
  {
   "cell_type": "code",
   "execution_count": 17,
   "metadata": {},
   "outputs": [],
   "source": [
    "pd.set_option('display.float_format', '{:.0f}'.format)"
   ]
  },
  {
   "cell_type": "code",
   "execution_count": 23,
   "metadata": {},
   "outputs": [],
   "source": [
    "from matplotlib import ticker"
   ]
  },
  {
   "cell_type": "code",
   "execution_count": 38,
   "metadata": {},
   "outputs": [
    {
     "data": {
      "image/png": "[encoded data removed]",
      "text/plain": [
       "<Figure size 2000x1000 with 1 Axes>"
      ]
     },
     "metadata": {},
     "output_type": "display_data"
    }
   ],
   "source": [
    "plt.figure(figsize=(20, 10))\n",
    "bars = plt.bar(nearby_cities_df.index, nearby_cities_df['전체온실가스배출량(tonCO2-eq)'], color='royalblue')\n",
    "formatter = ticker.ScalarFormatter()\n",
    "formatter.set_scientific(False)\n",
    "plt.gca().yaxis.set_major_formatter(formatter)\n",
    "plt.yticks(rotation=45)\n",
    "plt.xlabel('지역', loc='right')\n",
    "plt.ylabel('전체온실가스배출량(tonCO2-eq)', loc='top')\n",
    "plt.title('경기도 주요지역 온실가스 배출량 (2011~2019년)')\n",
    "plt.savefig('./result/hwaseong_nearby_cities_co2.png')\n",
    "plt.show()"
   ]
  },
  {
   "cell_type": "code",
   "execution_count": null,
   "metadata": {},
   "outputs": [],
   "source": []
  }
 ],
 "metadata": {
  "kernelspec": {
   "display_name": "base",
   "language": "python",
   "name": "python3"
  },
  "language_info": {
   "codemirror_mode": {
    "name": "ipython",
    "version": 3
   },
   "file_extension": ".py",
   "mimetype": "text/x-python",
   "name": "python",
   "nbconvert_exporter": "python",
   "pygments_lexer": "ipython3",
   "version": "3.11.5"
  }
 },
 "nbformat": 4,
 "nbformat_minor": 2
}
